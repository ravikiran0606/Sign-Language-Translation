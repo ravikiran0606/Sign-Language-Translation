{
 "cells": [
  {
   "cell_type": "code",
   "execution_count": 1,
   "metadata": {},
   "outputs": [],
   "source": [
    "import sys, os, shutil"
   ]
  },
  {
   "cell_type": "code",
   "execution_count": 9,
   "metadata": {},
   "outputs": [
    {
     "name": "stdout",
     "output_type": "stream",
     "text": [
      "Folder :sugar\n",
      "\n",
      "Folder :some\n",
      "\n",
      "Folder :mirror\n",
      "\n",
      "Folder :assistance\n",
      "\n",
      "Folder :control\n",
      "\n",
      "Folder :vacation\n",
      "\n",
      "Folder :gun\n",
      "\n",
      "Folder :learn\n",
      "\n",
      "Folder :friend\n",
      "\n",
      "Folder :thick\n",
      "\n",
      "Folder :lose\n",
      "\n",
      "Folder :this\n",
      "\n",
      "Folder :weight\n",
      "\n",
      "Folder :I\n",
      "\n",
      "Folder :time\n",
      "\n",
      "Folder :snake\n",
      "\n",
      "Folder :ghost\n",
      "\n",
      "Folder :where\n",
      "\n",
      "Folder :handcuffs\n",
      "\n",
      "Folder :assist\n",
      "\n",
      "Folder :there\n",
      "\n",
      "Folder :me\n",
      "\n",
      "Folder :how\n",
      "\n",
      "Folder :stand\n",
      "\n",
      "Folder :varanasi\n",
      "\n",
      "Folder :you\n",
      "\n",
      "Folder :help\n",
      "\n",
      "Folder :add\n",
      "\n",
      "Folder :promise\n",
      "\n",
      "Folder :skin\n",
      "\n",
      "Folder :what\n",
      "\n",
      "Folder :measure\n",
      "\n",
      "Folder :good\n",
      "\n",
      "Folder :boxing\n",
      "\n"
     ]
    }
   ],
   "source": [
    "source_path = \"./dataset/\"\n",
    "dest_path = \"./datasetnew/\"\n",
    "source_folders = os.listdir(source_path)\n",
    "\n",
    "for foldname in source_folders:\n",
    "    os.mkdir(os.path.join(dest_path, foldname))\n",
    "    print(\"Folder :\" + foldname + \"\\n\")\n",
    "    source_fold_path = os.path.join(source_path, foldname)\n",
    "    dest_fold_path = os.path.join(dest_path, foldname)\n",
    "    files = os.listdir(source_fold_path)\n",
    "    for f_name in files[0:101]:\n",
    "        source_fname = os.path.join(source_fold_path,f_name)\n",
    "        dest_fname = os.path.join(dest_fold_path,f_name)\n",
    "        shutil.copy(source_fname,dest_fname)"
   ]
  },
  {
   "cell_type": "code",
   "execution_count": null,
   "metadata": {},
   "outputs": [],
   "source": []
  },
  {
   "cell_type": "code",
   "execution_count": null,
   "metadata": {},
   "outputs": [],
   "source": []
  }
 ],
 "metadata": {
  "kernelspec": {
   "display_name": "Python 3",
   "language": "python",
   "name": "python3"
  },
  "language_info": {
   "codemirror_mode": {
    "name": "ipython",
    "version": 3
   },
   "file_extension": ".py",
   "mimetype": "text/x-python",
   "name": "python",
   "nbconvert_exporter": "python",
   "pygments_lexer": "ipython3",
   "version": "3.5.2"
  }
 },
 "nbformat": 4,
 "nbformat_minor": 2
}
